{
 "cells": [
  {
   "cell_type": "markdown",
   "metadata": {},
   "source": [
    "# Say Hello World"
   ]
  },
  {
   "cell_type": "code",
   "execution_count": null,
   "metadata": {},
   "outputs": [],
   "source": [
    "print(\"Hello, World!\")"
   ]
  },
  {
   "cell_type": "markdown",
   "metadata": {},
   "source": [
    "# Python If-Else"
   ]
  },
  {
   "cell_type": "code",
   "execution_count": null,
   "metadata": {},
   "outputs": [],
   "source": [
    "#!/bin/python3\n",
    "\n",
    "import math\n",
    "import os\n",
    "import random\n",
    "import re\n",
    "import sys\n",
    "\n",
    "\n",
    "\n",
    "if __name__ == '__main__':\n",
    "    n = int(input().strip())\n",
    "\n",
    "\n",
    "\n",
    "\n",
    "if n % 2 == 0 and n <= 5:\n",
    "        print(\"Not Weird\")\n",
    "elif n % 2== 0 and n > 5 and n <= 20:\n",
    "        print (\"Weird\")\n",
    "elif n %2==0 and n > 20:\n",
    "        print (\"Not Weird\")\n",
    "else:\n",
    "        print(\"Weird\")"
   ]
  },
  {
   "cell_type": "markdown",
   "metadata": {},
   "source": [
    "# Arithmetic Operators"
   ]
  },
  {
   "cell_type": "code",
   "execution_count": null,
   "metadata": {},
   "outputs": [],
   "source": [
    "if __name__ == '__main__':\n",
    "    a = int(input())\n",
    "    b = int(input())\n",
    "\n",
    "print(a+b)\n",
    "print(a-b)\n",
    "print(a*b)\n"
   ]
  },
  {
   "cell_type": "markdown",
   "metadata": {},
   "source": [
    "# Python Division    "
   ]
  },
  {
   "cell_type": "code",
   "execution_count": null,
   "metadata": {},
   "outputs": [],
   "source": [
    "if __name__ == '__main__':\n",
    "    a = int(input())\n",
    "    b = int(input())\n",
    "\n",
    "print(a//b)\n",
    "print(a/b)"
   ]
  },
  {
   "cell_type": "markdown",
   "metadata": {},
   "source": [
    "# Loops"
   ]
  },
  {
   "cell_type": "code",
   "execution_count": null,
   "metadata": {},
   "outputs": [],
   "source": [
    "if __name__ == '__main__':\n",
    "    n = int(input())\n",
    "\n",
    "\n",
    "for i in range(n):\n",
    "    print(i*i)\n"
   ]
  },
  {
   "cell_type": "markdown",
   "metadata": {},
   "source": [
    "# Write a function"
   ]
  },
  {
   "cell_type": "code",
   "execution_count": null,
   "metadata": {},
   "outputs": [],
   "source": [
    "def is_leap(year):\n",
    "    leap = False\n",
    "    return year % 4 == 0 and (year % 400 == 0 or year % 100 != 0)\n",
    "\n",
    "\n",
    "year = int(input())\n",
    "print(is_leap(year))"
   ]
  },
  {
   "cell_type": "markdown",
   "metadata": {},
   "source": [
    "# Print Function\n"
   ]
  },
  {
   "cell_type": "code",
   "execution_count": null,
   "metadata": {},
   "outputs": [],
   "source": [
    "if __name__ == '__main__':\n",
    "    n = int(input())\n",
    "\n",
    "for i in range(1,n+1):\n",
    "    print(i, end = \"\")"
   ]
  },
  {
   "cell_type": "markdown",
   "metadata": {},
   "source": [
    "# List Comprehension"
   ]
  },
  {
   "cell_type": "code",
   "execution_count": null,
   "metadata": {},
   "outputs": [],
   "source": [
    "if __name__ == '__main__':\n",
    "    x = int(input())\n",
    "    y = int(input())\n",
    "    z = int(input())\n",
    "    n = int(input())\n",
    "\n",
    "print([[i,j,k] for i in range(x+1) for j in range(y+1) \n",
    "       for k in range(z+1) if (i+j+k !=n)])"
   ]
  },
  {
   "cell_type": "markdown",
   "metadata": {},
   "source": [
    "# Find the runner up score\n"
   ]
  },
  {
   "cell_type": "code",
   "execution_count": null,
   "metadata": {},
   "outputs": [],
   "source": [
    "if __name__ == '__main__':\n",
    "    n = int(input())\n",
    "    arr =(map(int, input().split()))\n",
    "\n",
    "\n",
    "arr = list(arr)\n",
    "m = max(arr)\n",
    "while max(arr) == m:\n",
    "    arr.remove(m)\n",
    "print(max(arr))"
   ]
  },
  {
   "cell_type": "markdown",
   "metadata": {},
   "source": [
    "# Finding the percentage"
   ]
  },
  {
   "cell_type": "code",
   "execution_count": null,
   "metadata": {},
   "outputs": [],
   "source": [
    "if __name__ == '__main__':\n",
    "    n = int(input())\n",
    "    student_marks = {}\n",
    "    for _ in range(n):\n",
    "        name, *line = input().split()\n",
    "        scores = list(map(float, line))\n",
    "        scores=sum(scores)/3\n",
    "        student_marks[name] = scores\n",
    "    query_name = input()    \n",
    "    print('%.2f' % student_marks[query_name])"
   ]
  },
  {
   "cell_type": "markdown",
   "metadata": {},
   "source": [
    "# Lists"
   ]
  },
  {
   "cell_type": "code",
   "execution_count": null,
   "metadata": {},
   "outputs": [],
   "source": [
    "if __name__ == '__main__':\n",
    "    N = int(input())\n",
    "    l = []\n",
    "for i in range(N):\n",
    "    cosafare = input().split()\n",
    "    if cosafare[0] == \"insert\":\n",
    "        l.insert(int(cosafare[1]),int(cosafare[2]))\n",
    "    if cosafare[0] == \"append\":\n",
    "        l.append(int(cosafare[1]))\n",
    "    if cosafare[0] == \"remove\": \n",
    "        l.remove(int(cosafare[1]))\n",
    "    if cosafare[0] == \"pop\":\n",
    "        l.pop()\n",
    "    if cosafare[0] == \"sort\":\n",
    "        l.sort()\n",
    "    if cosafare[0] == \"reverse\":\n",
    "        l.reverse()\n",
    "    if cosafare[0] == \"print\":\n",
    "        print(l)"
   ]
  },
  {
   "cell_type": "markdown",
   "metadata": {},
   "source": [
    "# Tuples"
   ]
  },
  {
   "cell_type": "code",
   "execution_count": null,
   "metadata": {},
   "outputs": [],
   "source": [
    "if __name__ == '__main__':\n",
    "    n = int(input())\n",
    "    integer_list = map(int, input().split())\n",
    "\n"
   ]
  },
  {
   "cell_type": "markdown",
   "metadata": {},
   "source": [
    "# sWAP cASE"
   ]
  },
  {
   "cell_type": "code",
   "execution_count": null,
   "metadata": {},
   "outputs": [],
   "source": [
    "def swap_case(s):\n",
    "    r = \"\"\n",
    "    for i in s:\n",
    "        if i.isupper() == True:\n",
    "            r+=(i.lower())\n",
    "        else:\n",
    "            r+=(i.upper())\n",
    "    return r\n",
    "         \n",
    "\n",
    "if __name__ == '__main__':\n",
    "    s = input()\n",
    "    result = swap_case(s)\n",
    "    print(result)"
   ]
  },
  {
   "cell_type": "markdown",
   "metadata": {},
   "source": [
    "# String split and join\n"
   ]
  },
  {
   "cell_type": "code",
   "execution_count": null,
   "metadata": {},
   "outputs": [],
   "source": [
    "def split_and_join(line):\n",
    "  line = line.split(\" \")\n",
    "  line = \"-\".join(line)\n",
    "  return line\n",
    "  \n",
    "\n",
    "if __name__ == '__main__':\n",
    "    line = input()\n",
    "    result = split_and_join(line)\n",
    "    print(result)"
   ]
  },
  {
   "cell_type": "markdown",
   "metadata": {},
   "source": [
    "# What's your name\n"
   ]
  },
  {
   "cell_type": "code",
   "execution_count": null,
   "metadata": {},
   "outputs": [],
   "source": [
    "def print_full_name(a, b):\n",
    "    print(\"Hello {} {}! You just delved into python.\" .format(a,b))\n",
    "\n",
    "if __name__ == '__main__':\n",
    "    first_name = input()\n",
    "    last_name = input()\n",
    "    print_full_name(first_name, last_name)"
   ]
  },
  {
   "cell_type": "markdown",
   "metadata": {},
   "source": [
    "# Mutations"
   ]
  },
  {
   "cell_type": "code",
   "execution_count": null,
   "metadata": {},
   "outputs": [],
   "source": [
    "def mutate_string(string, position, character):\n",
    "    s =list(string) \n",
    "    i = position\n",
    "    c = character\n",
    "    s[i] = c    \n",
    "    return ''.join(s)\n",
    "    \n",
    "if __name__ == '__main__':\n",
    "    s = input()\n",
    "    i, c = input().split()\n",
    "    s_new = mutate_string(s, int(i), c)\n",
    "    print(s_new)"
   ]
  },
  {
   "cell_type": "markdown",
   "metadata": {},
   "source": [
    "# Find a string"
   ]
  },
  {
   "cell_type": "code",
   "execution_count": null,
   "metadata": {},
   "outputs": [],
   "source": [
    "def count_substring(string, sub_string):\n",
    "    conta=0\n",
    "    i = 0\n",
    "    while i<len(string):\n",
    "        if string.find(sub_string, i)>=0:\n",
    "            i = string.find(sub_string,i)+1\n",
    "            conta+=1\n",
    "        else: \n",
    "            break\n",
    "    return conta\n",
    "\n",
    "\n",
    "if __name__ == '__main__':\n",
    "    string = input().strip()\n",
    "    sub_string = input().strip()\n",
    "    \n",
    "    count = count_substring(string, sub_string)\n",
    "    print(count)"
   ]
  },
  {
   "cell_type": "markdown",
   "metadata": {},
   "source": [
    "# Text alignment"
   ]
  },
  {
   "cell_type": "code",
   "execution_count": null,
   "metadata": {},
   "outputs": [],
   "source": [
    "#Replace all ______ with rjust, ljust or center. \n",
    "\n",
    "thickness = int(input()) #This must be an odd number\n",
    "c = 'H'\n",
    "\n",
    "#Top Cone\n",
    "for i in range(thickness):\n",
    "    print((c*i).rjust(thickness-1)+c+(c*i).ljust(thickness-1))\n",
    "\n",
    "#Top Pillars\n",
    "for i in range(thickness+1):\n",
    "    print((c*thickness).center(thickness*2)+(c*thickness).center(thickness*6))\n",
    "\n",
    "#Middle Belt\n",
    "for i in range((thickness+1)//2):\n",
    "    print((c*thickness*5).center(thickness*6))    \n",
    "\n",
    "#Bottom Pillars\n",
    "for i in range(thickness+1):\n",
    "    print((c*thickness).center(thickness*2)+(c*thickness).center(thickness*6))    \n",
    "\n",
    "#Bottom Cone\n",
    "for i in range(thickness):\n",
    "    print(((c*(thickness-i-1)).rjust(thickness)+c+(c*(thickness-i-1)).ljust(thickness)).rjust(thickness*6))"
   ]
  },
  {
   "cell_type": "markdown",
   "metadata": {},
   "source": [
    "# Text Wrap"
   ]
  },
  {
   "cell_type": "code",
   "execution_count": null,
   "metadata": {},
   "outputs": [],
   "source": [
    "import textwrap\n",
    "\n",
    "def wrap(string, max_width):\n",
    "    for i in range(0,len(string), max_width):\n",
    "        \"\\n\".join([string[i:i+max_width]])\n",
    "    return string\n",
    "\n",
    "\n",
    "\n",
    "\n",
    "def wrap(string, max_width):\n",
    "    return \"\\n\".join([string[i:i+max_width] for i in range(0, len(string), max_width)])\n",
    "\n",
    "if __name__ == '__main__':\n",
    "    string, max_width = input(), int(input())\n",
    "    result = wrap(string, max_width)\n",
    "    print(result)"
   ]
  },
  {
   "cell_type": "markdown",
   "metadata": {},
   "source": [
    "# Designer Door Mat"
   ]
  },
  {
   "cell_type": "code",
   "execution_count": null,
   "metadata": {},
   "outputs": [],
   "source": [
    "n, m = map(int,input().split())\n",
    "pattern = [('.|.'*(2*i + 1)).center(m, '-') for i in range(n//2)]\n",
    "print('\\n'.join(pattern + ['WELCOME'.center(m, '-')] + pattern[::-1]))"
   ]
  },
  {
   "cell_type": "markdown",
   "metadata": {},
   "source": [
    "# String Formatting"
   ]
  },
  {
   "cell_type": "code",
   "execution_count": null,
   "metadata": {},
   "outputs": [],
   "source": [
    "def print_formatted(number):\n",
    "    width = len(bin(number)[2:])\n",
    "    for i in range(1,number+1):\n",
    "        print(str(i).rjust(width,' '),end=\" \")\n",
    "        print(oct(i)[2:].rjust(width,' '),end=\" \")\n",
    "        print(((hex(i)[2:]).upper()).rjust(width,' '),end=\" \")\n",
    "        print(bin(i)[2:].rjust(width,' '),end=\" \")\n",
    "        print(\"\")\n",
    "\n",
    "if __name__ == '__main__':\n",
    "    n = int(input())\n",
    "    print_formatted(n)"
   ]
  },
  {
   "cell_type": "markdown",
   "metadata": {},
   "source": [
    "# collection.Counter()"
   ]
  },
  {
   "cell_type": "code",
   "execution_count": null,
   "metadata": {},
   "outputs": [],
   "source": [
    "# Enter your code here. Read input from STDIN. Print output to STDOUT\n",
    "x = int(input())\n",
    "import collections\n",
    "from collections import Counter\n",
    "sizes = collections.Counter(map(int, input().split()))\n",
    "c = int(input())\n",
    "cassa = 0\n",
    "for i in range(c):\n",
    "    s, p = map(int, input().split())\n",
    "    if sizes[s]:\n",
    "        cassa += p\n",
    "        sizes[s] -= 1\n",
    "print (cassa)"
   ]
  },
  {
   "cell_type": "markdown",
   "metadata": {},
   "source": [
    "# Introduction to Sets"
   ]
  },
  {
   "cell_type": "code",
   "execution_count": null,
   "metadata": {},
   "outputs": [],
   "source": [
    "def average(array):\n",
    "    return (sum(set(array))/len(set(array)))\n",
    "\n",
    "\n",
    "if __name__ == '__main__':\n",
    "    n = int(input())\n",
    "    arr = list(map(int, input().split()))\n",
    "    result = average(arr)\n",
    "    print(result)"
   ]
  },
  {
   "cell_type": "markdown",
   "metadata": {},
   "source": [
    "# DefaultDict Tutorial"
   ]
  },
  {
   "cell_type": "code",
   "execution_count": null,
   "metadata": {},
   "outputs": [],
   "source": [
    "# Enter your code here. Read input from STDIN. Print output to STDOUT\n",
    "import collections\n",
    "from collections import defaultdict\n",
    "d = defaultdict(list)\n",
    "l = []\n",
    "n , m = map(int, input().split())\n",
    "for i in range(n):\n",
    "    d[input()].append(i+1)\n",
    "for j in range(m):\n",
    "    l+=[input()]\n",
    "for k in l:\n",
    "    if k in d:\n",
    "        print (\" \".join(map(str,d[k])))\n",
    "    else:\n",
    "        print (-1)\n",
    "\n",
    "\n"
   ]
  },
  {
   "cell_type": "markdown",
   "metadata": {},
   "source": [
    "# Calendar Module"
   ]
  },
  {
   "cell_type": "code",
   "execution_count": null,
   "metadata": {},
   "outputs": [],
   "source": [
    "# Enter your code here. Read input from STDIN. Print output to STDOUT\n",
    "import calendar\n",
    "date = input().split()\n",
    "m = int(date[0])\n",
    "d = int(date[1])\n",
    "y = int(date[2])\n",
    "giorno = (calendar.weekday(y, m, d)) \n",
    "if giorno == 0:\n",
    "    print(\"MONDAY\")\n",
    "elif giorno == 1:\n",
    "    print(\"TUESDAY\")\n",
    "elif giorno == 2:\n",
    "    print(\"WEDNESDAY\")\n",
    "elif giorno ==3:\n",
    "    print(\"THURSDAY\")\n",
    "elif giorno ==4:\n",
    "    print(\"FRIDAY\")\n",
    "elif giorno == 5:\n",
    "    print(\"SATURDAY\")\n",
    "elif giorno ==6:\n",
    "    print(\"SUNDAY\")"
   ]
  },
  {
   "cell_type": "markdown",
   "metadata": {},
   "source": [
    "# Exceptions"
   ]
  },
  {
   "cell_type": "code",
   "execution_count": null,
   "metadata": {},
   "outputs": [],
   "source": [
    "# Enter your code here. Read input from STDIN. Print output to STDOUT\n",
    "t = int(input())\n",
    "for i in range(t):\n",
    "    a, b = input().split()\n",
    "    try:\n",
    "        print(int(a)//int(b))\n",
    "    except ZeroDivisionError as e:\n",
    "        print(\"Error Code:\", e)\n",
    "    except ValueError as v:\n",
    "        print(\"Error Code:\", v)"
   ]
  },
  {
   "cell_type": "markdown",
   "metadata": {},
   "source": [
    "# collections.namedtuple()"
   ]
  },
  {
   "cell_type": "code",
   "execution_count": null,
   "metadata": {},
   "outputs": [],
   "source": [
    "# Enter your code here. Read input from STDIN. Print output to STDOUT\n",
    "import collections\n",
    "from collections import namedtuple\n",
    "n = int(input())\n",
    "col = input().split()\n",
    "tot = 0\n",
    "for i in range(n):\n",
    "    stud = namedtuple(\"student\", col)\n",
    "    col1, col2, col3, col4 = input().split()\n",
    "    student = stud(col1,col2,col3,col4)\n",
    "    tot += int(student.MARKS)\n",
    "print(tot/n)"
   ]
  },
  {
   "cell_type": "markdown",
   "metadata": {},
   "source": [
    "# collections. OrderedDict()"
   ]
  },
  {
   "cell_type": "code",
   "execution_count": null,
   "metadata": {},
   "outputs": [],
   "source": [
    "# Enter your code here. Read input from STDIN. Print output to STDOUT\n",
    "import collections\n",
    "from collections import OrderedDict\n",
    "\n",
    "d = OrderedDict()\n",
    "n = int(input())\n",
    "\n",
    "for i in range(n):\n",
    "    m = input().split() \n",
    "    item, price = ' '.join(m[:-1]), int(m[-1])\n",
    "    d[item] = d.get(item, 0) + int(price)\n",
    "for j, k in d.items():\n",
    "    print(j,k)\n"
   ]
  },
  {
   "cell_type": "markdown",
   "metadata": {},
   "source": [
    "# Symmetric Difference"
   ]
  },
  {
   "cell_type": "code",
   "execution_count": null,
   "metadata": {},
   "outputs": [],
   "source": [
    "n1,m1,n2,m2 = (int(input()),input().split(),int(input()),input().split())\n",
    "\n",
    "s1=set(m1)\n",
    "s2=set(m2)\n",
    "\n",
    "diff1=s2.difference(s1)\n",
    "diff2=s1.difference(s2)\n",
    "\n",
    "r=diff1.union(diff2)\n",
    "\n",
    "print ('\\n'.join(sorted(r, key=int)))"
   ]
  },
  {
   "cell_type": "markdown",
   "metadata": {},
   "source": [
    "# Set.add()"
   ]
  },
  {
   "cell_type": "code",
   "execution_count": null,
   "metadata": {},
   "outputs": [],
   "source": [
    "# Enter your code here. Read input from STDIN. Print output to STDOUT\n",
    "n = int(input())\n",
    "s = set()\n",
    "\n",
    "for i in range(n):\n",
    "    s.add(input())\n",
    "print (len(s))\n"
   ]
  },
  {
   "cell_type": "markdown",
   "metadata": {},
   "source": [
    "# Set. discard(), remove(), pop()"
   ]
  },
  {
   "cell_type": "code",
   "execution_count": null,
   "metadata": {},
   "outputs": [],
   "source": [
    "n = int(input())\n",
    "s = set(map(int, input().split()))\n",
    "\n",
    "N = int(input())\n",
    "\n",
    "for i in range(N):\n",
    "    c = input().split()\n",
    "    if c[0] == \"pop\":\n",
    "        s.pop()\n",
    "    elif c[0] == \"remove\":\n",
    "        s.remove(int(c[1]))\n",
    "    elif c [0] == \"discard\":\n",
    "        s.discard(int(c[1]))\n",
    "print (sum(s))\n"
   ]
  },
  {
   "cell_type": "markdown",
   "metadata": {},
   "source": [
    "# collections.deque()"
   ]
  },
  {
   "cell_type": "code",
   "execution_count": null,
   "metadata": {},
   "outputs": [],
   "source": [
    "# Enter your code here. Read input from STDIN. Print output to STDOUT\n",
    "import collections\n",
    "from collections import deque\n",
    "n = int(input())\n",
    "d = deque()\n",
    "\n",
    "for i in range(n):\n",
    "    cosafare = list(input().split())\n",
    "    if cosafare[0] == \"append\":\n",
    "        d.append(cosafare[1])\n",
    "    if cosafare[0]== \"appendleft\":\n",
    "        d.appendleft(cosafare[1])\n",
    "    if cosafare[0] == \"pop\":\n",
    "        d.pop()\n",
    "    if cosafare[0] == \"popleft\":\n",
    "        d.popleft()\n",
    "for elem in d:\n",
    "    print (elem, end = \" \")\n"
   ]
  },
  {
   "cell_type": "markdown",
   "metadata": {},
   "source": [
    "# Set.union() Operation"
   ]
  },
  {
   "cell_type": "code",
   "execution_count": null,
   "metadata": {},
   "outputs": [],
   "source": [
    "# Enter your code here. Read input from STDIN. Print output to STDOUT\n",
    "n = int(input())\n",
    "s1 = set(map(int, input().split()))\n",
    "m = int(input())\n",
    "s2 = set(map(int, input().split()))\n",
    "\n",
    "s3 = s1|s2\n",
    "print (len(s3))"
   ]
  },
  {
   "cell_type": "markdown",
   "metadata": {},
   "source": [
    "# Piling up"
   ]
  },
  {
   "cell_type": "code",
   "execution_count": null,
   "metadata": {},
   "outputs": [],
   "source": [
    "# Enter your code here. Read input from STDIN. Print output to STDOUT\n",
    "for t in range(int(input())):\n",
    "    input()\n",
    "    lenght = list(map(int, input().split()))\n",
    "    l = len(lenght)\n",
    "    i = 0\n",
    "    while i < l - 1 and lenght[i] >= lenght[i+1]:\n",
    "        i += 1\n",
    "    while i < l - 1 and lenght[i] <= lenght[i+1]:\n",
    "        i += 1\n",
    "    print (\"Yes\" if i == l - 1 else \"No\")"
   ]
  },
  {
   "cell_type": "markdown",
   "metadata": {},
   "source": [
    "# Set.intersection() Operation"
   ]
  },
  {
   "cell_type": "code",
   "execution_count": null,
   "metadata": {},
   "outputs": [],
   "source": [
    "# Enter your code here. Read input from STDIN. Print output to STDOUT\n",
    "n = int(input())\n",
    "s1 = set(map(int, input().split()))\n",
    "m =int(input())\n",
    "s2 = set(map(int, input().split()))\n",
    "\n",
    "s3 = s1&s2\n",
    "print (len(s3))"
   ]
  },
  {
   "cell_type": "markdown",
   "metadata": {},
   "source": [
    "# Set. difference() Operation"
   ]
  },
  {
   "cell_type": "code",
   "execution_count": null,
   "metadata": {},
   "outputs": [],
   "source": [
    "# Enter your code here. Read input from STDIN. Print output to STDOUT\n",
    "n = int(input())\n",
    "s1 = set(map(int, input().split()))\n",
    "m =int(input())\n",
    "s2 = set(map(int, input().split()))\n",
    "\n",
    "s3 = s1 - s2\n",
    "print(len(s3))\n"
   ]
  },
  {
   "cell_type": "markdown",
   "metadata": {},
   "source": [
    "# Set. symmetric_difference() Operation"
   ]
  },
  {
   "cell_type": "code",
   "execution_count": null,
   "metadata": {},
   "outputs": [],
   "source": [
    "# Enter your code here. Read input from STDIN. Print output to STDOUT\n",
    "n = int(input())\n",
    "s1 = set(map(int, input().split()))\n",
    "m =int(input())\n",
    "s2 = set(map(int, input().split()))\n",
    "\n",
    "s3 = s1^s2\n",
    "\n",
    "print(len(s3))"
   ]
  },
  {
   "cell_type": "markdown",
   "metadata": {},
   "source": [
    "# Set mutations"
   ]
  },
  {
   "cell_type": "code",
   "execution_count": null,
   "metadata": {},
   "outputs": [],
   "source": [
    "# Enter your code here. Read input from STDIN. Print output to STDOUT\n",
    "n = int(input())\n",
    "s1 = set(map(int, input().split()))\n",
    "others = int(input())\n",
    "\n",
    "for i in range(others):\n",
    "    c = input().split()\n",
    "    s = set(map(int, input().split()))\n",
    "    if c[0] == \"intersection_update\":\n",
    "        s1.intersection_update(s)\n",
    "    if c[0] == \"update\":\n",
    "        s1.update(s)\n",
    "    if c[0] == \"symmetric_difference_update\":\n",
    "        s1.symmetric_difference_update(s)\n",
    "    if c[0] == \"difference_update\":\n",
    "        s1.difference_update(s)\n",
    "print (sum(s1))"
   ]
  },
  {
   "cell_type": "markdown",
   "metadata": {},
   "source": [
    "# Captain's room"
   ]
  },
  {
   "cell_type": "code",
   "execution_count": null,
   "metadata": {},
   "outputs": [],
   "source": [
    "# Enter your code here. Read input from STDIN. Print output to STDOUT\n",
    "n = int(input())\n",
    "l = list(map(int, input().split()))\n",
    "s = set(l)\n",
    "\n",
    "diff = sum(s)*n - sum(l)\n",
    "\n",
    "print (diff//(n-1))\n"
   ]
  },
  {
   "cell_type": "markdown",
   "metadata": {},
   "source": [
    "# Check subset\n"
   ]
  },
  {
   "cell_type": "code",
   "execution_count": null,
   "metadata": {},
   "outputs": [],
   "source": [
    "# Enter your code here. Read input from STDIN. Print output to STDOUT\n",
    "T = int(input())\n",
    "for i in range(T):\n",
    "    a = int(input())\n",
    "    A = set(map(int, input().split()))\n",
    "    b = int(input())\n",
    "    B = set(map(int, input().split()))\n",
    "    if A.issubset(B):\n",
    "        print (True)\n",
    "    else:\n",
    "        print(False)\n"
   ]
  },
  {
   "cell_type": "markdown",
   "metadata": {},
   "source": [
    "# Check strict superset"
   ]
  },
  {
   "cell_type": "code",
   "execution_count": null,
   "metadata": {},
   "outputs": [],
   "source": [
    "# Enter your code here. Read input from STDIN. Print output to STDOUT\n",
    "A = set(map(int, input().split()))\n",
    "n = int(input())\n",
    "for i in range(n):\n",
    "    s = set(map(int, input().split()))\n",
    "    if not A.issuperset(s):\n",
    "        print(\"False\")\n",
    "        break\n",
    "else:\n",
    "    print(\"True\")\n"
   ]
  },
  {
   "cell_type": "markdown",
   "metadata": {},
   "source": [
    "# Zipped"
   ]
  },
  {
   "cell_type": "code",
   "execution_count": null,
   "metadata": {},
   "outputs": [],
   "source": [
    "# Enter your code here. Read input from STDIN. Print output to STDOUT\n",
    "n,x = map(int,input().split())\n",
    "l=[]\n",
    "for i in range(x):\n",
    "    l.append(map(float,input().split()))\n",
    "l = list(zip(*l))\n",
    "for i in range(n):\n",
    "    print(sum(l[i])/x)"
   ]
  },
  {
   "cell_type": "markdown",
   "metadata": {},
   "source": [
    "# Input()"
   ]
  },
  {
   "cell_type": "code",
   "execution_count": null,
   "metadata": {},
   "outputs": [],
   "source": [
    "# Enter your code here. Read input from STDIN. Print output to STDOUT\n",
    "x, k = map(int, input().split())\n",
    "\n",
    "print(eval(input()) == k)\n"
   ]
  },
  {
   "cell_type": "markdown",
   "metadata": {},
   "source": [
    "# Python evaluation"
   ]
  },
  {
   "cell_type": "code",
   "execution_count": null,
   "metadata": {},
   "outputs": [],
   "source": [
    "# Enter your code here. Read input from STDIN. Print output to STDOUT\n",
    "\n",
    "eval(input())"
   ]
  },
  {
   "cell_type": "markdown",
   "metadata": {},
   "source": [
    "# Detect Floating Point Number"
   ]
  },
  {
   "cell_type": "code",
   "execution_count": null,
   "metadata": {},
   "outputs": [],
   "source": [
    "# Enter your code here. Read input from STDIN. Print output to STDOUT\n",
    "import re\n",
    "T = int(input())\n",
    "\n",
    "for i in range(T):\n",
    "    try:\n",
    "        if float(input()):\n",
    "            print (True)\n",
    "        else:\n",
    "            print (False)\n",
    "    except:\n",
    "        print( False)"
   ]
  },
  {
   "cell_type": "markdown",
   "metadata": {},
   "source": [
    "# Map and Lambda function"
   ]
  },
  {
   "cell_type": "code",
   "execution_count": null,
   "metadata": {},
   "outputs": [],
   "source": [
    "cube = lambda x: x*x*x # complete the lambda function \n",
    "\n",
    "def fibonacci(n):\n",
    "    a,b = 0,1\n",
    "    for i in range(n):\n",
    "        yield a\n",
    "        a,b = b,a+b\n",
    "        \n",
    "    # return a list of fibonacci numbers"
   ]
  },
  {
   "cell_type": "markdown",
   "metadata": {},
   "source": [
    "# re.split()"
   ]
  },
  {
   "cell_type": "code",
   "execution_count": null,
   "metadata": {},
   "outputs": [],
   "source": [
    "regex_pattern = r\"[,.]\"\t# Do not delete 'r'."
   ]
  },
  {
   "cell_type": "markdown",
   "metadata": {},
   "source": [
    "# group(), groups() , groupdict()"
   ]
  },
  {
   "cell_type": "code",
   "execution_count": null,
   "metadata": {},
   "outputs": [],
   "source": [
    "# Enter your code here. Read input from STDIN. Print output to STDOUT\n",
    "import re\n",
    "S = input()\n",
    "m = re.search(r'([a-z A-Z 0-9])\\1', S)\n",
    "if m:\n",
    "    print(m.group(1))\n",
    "else: \n",
    "    print(-1)"
   ]
  },
  {
   "cell_type": "markdown",
   "metadata": {},
   "source": [
    "# Validating Roman Numerals"
   ]
  },
  {
   "cell_type": "code",
   "execution_count": null,
   "metadata": {},
   "outputs": [],
   "source": [
    "regex_pattern = r\"^(M{0,3})(CM|CD|D?C{0,3})(XC|XL|L?X{0,3})(IX|IV|V?I{0,3})$\"\t# Do not delete 'r'"
   ]
  },
  {
   "cell_type": "markdown",
   "metadata": {},
   "source": [
    "# Validating Phone Numbers"
   ]
  },
  {
   "cell_type": "code",
   "execution_count": null,
   "metadata": {},
   "outputs": [],
   "source": [
    "# Enter your code here. Read input from STDIN. Print output to STDOUT\n",
    "import re\n",
    "n = int(input())\n",
    "for i in range(n):\n",
    "    if re.match(r\"^[789]{1}\\d{9}$\", input()):\n",
    "        print(\"YES\")\n",
    "    else:\n",
    "        print(\"NO\")"
   ]
  },
  {
   "cell_type": "markdown",
   "metadata": {},
   "source": [
    "# Standardize Mobile Number with Decorators"
   ]
  },
  {
   "cell_type": "code",
   "execution_count": null,
   "metadata": {},
   "outputs": [],
   "source": [
    "def wrapper(f):\n",
    "    \n",
    "    def fun(l):\n",
    "            f((\"+91 \"+c[-10:-5]+\" \"+c[-5:]) for c in l)\n",
    "        # complete the function\n",
    "    return fun\n"
   ]
  },
  {
   "cell_type": "markdown",
   "metadata": {},
   "source": [
    "# String validators"
   ]
  },
  {
   "cell_type": "code",
   "execution_count": null,
   "metadata": {},
   "outputs": [],
   "source": [
    "if __name__ == '__main__':\n",
    "    s = input()\n",
    "    r = [\"False\", \"False\", \"False\", \"False\", \"False\"]\n",
    "for i in s:\n",
    "    if i.isalnum():\n",
    "        r[0] = \"True\"\n",
    "    if i.isalpha():\n",
    "        r[1] = \"True\"\n",
    "    if i.isdigit():\n",
    "        r[2] = \"True\"\n",
    "    if i.islower():\n",
    "        r[3] = \"True\"\n",
    "    if i.isupper():\n",
    "        r[4] = \"True\"\n",
    "print(*r, sep=\"\\n\")"
   ]
  },
  {
   "cell_type": "markdown",
   "metadata": {},
   "source": [
    "# Capitalize"
   ]
  },
  {
   "cell_type": "code",
   "execution_count": 1,
   "metadata": {},
   "outputs": [],
   "source": [
    "# Complete the solve function below.\n",
    "def solve(s):\n",
    "    nome = s.split(\" \")\n",
    "    maius = [i.capitalize() for i in nome]\n",
    "    return (\" \".join(maius))"
   ]
  },
  {
   "cell_type": "markdown",
   "metadata": {},
   "source": [
    "# Incorrect Regex"
   ]
  },
  {
   "cell_type": "code",
   "execution_count": null,
   "metadata": {},
   "outputs": [],
   "source": [
    "# Enter your code here. Read input from STDIN. Print output to STDOUT\n",
    "import re\n",
    "t = int(input())\n",
    "\n",
    "for i in range(t):\n",
    "    try:\n",
    "        re.compile(input())\n",
    "        print (True)\n",
    "    except re.error:\n",
    "        print (False)"
   ]
  },
  {
   "cell_type": "markdown",
   "metadata": {},
   "source": [
    "# Any or All"
   ]
  },
  {
   "cell_type": "code",
   "execution_count": null,
   "metadata": {},
   "outputs": [],
   "source": [
    "# Enter your code here. Read input from STDIN. Print output to STDOUT\n",
    "n = int(input())\n",
    "m = input().split()\n",
    "print((all(int(i)>0 for i in m))and(any(i==i[::-1] for i in m)))"
   ]
  },
  {
   "cell_type": "markdown",
   "metadata": {},
   "source": [
    "# Arrays"
   ]
  },
  {
   "cell_type": "code",
   "execution_count": null,
   "metadata": {},
   "outputs": [],
   "source": [
    "def arrays(arr):\n",
    "    arr2 = arr[::-1]\n",
    "    return numpy.array(arr2, float)\n",
    "    # complete this function\n",
    "    # use numpy.array"
   ]
  },
  {
   "cell_type": "code",
   "execution_count": null,
   "metadata": {},
   "outputs": [],
   "source": []
  },
  {
   "cell_type": "markdown",
   "metadata": {},
   "source": [
    "# Shape and Reshape"
   ]
  },
  {
   "cell_type": "code",
   "execution_count": null,
   "metadata": {},
   "outputs": [],
   "source": [
    "import numpy\n",
    "M = list(map(int, input().split()))\n",
    "print(numpy.reshape(M, (3,3)))"
   ]
  },
  {
   "cell_type": "markdown",
   "metadata": {},
   "source": [
    "# Transpose and Flatten"
   ]
  },
  {
   "cell_type": "code",
   "execution_count": null,
   "metadata": {},
   "outputs": [],
   "source": [
    "import numpy\n",
    "n, m = map(int, input().split())\n",
    "arr = numpy.array([input().split() for i in range(n)], int)\n",
    "print(numpy.transpose(arr))\n",
    "print(arr.flatten())"
   ]
  },
  {
   "cell_type": "markdown",
   "metadata": {},
   "source": [
    "# Concatenate"
   ]
  },
  {
   "cell_type": "code",
   "execution_count": null,
   "metadata": {},
   "outputs": [],
   "source": [
    "import numpy\n",
    "n,m,p = map(int, (input().split()))\n",
    "arr = numpy.array([input().split() for i in range(n)], int)\n",
    "arr2 = numpy.array([input().split() for i in range(m)], int)\n",
    "\n",
    "print (numpy.concatenate((arr, arr2), axis=0))"
   ]
  },
  {
   "cell_type": "markdown",
   "metadata": {},
   "source": [
    "# Zeros and Ones"
   ]
  },
  {
   "cell_type": "code",
   "execution_count": null,
   "metadata": {},
   "outputs": [],
   "source": [
    "import numpy\n",
    "dim = list(map(int, input().split()))\n",
    "print (numpy.zeros((dim), dtype = numpy.int))\n",
    "print (numpy.ones((dim), dtype = numpy.int))"
   ]
  },
  {
   "cell_type": "markdown",
   "metadata": {},
   "source": [
    "# Eye and Identity"
   ]
  },
  {
   "cell_type": "code",
   "execution_count": null,
   "metadata": {},
   "outputs": [],
   "source": [
    "import numpy\n",
    "n, m = map(int, input().split())\n",
    "numpy.set_printoptions(sign=' ') #risolve il bug dei vari test cases\n",
    "print(numpy.eye(n, m, k=0))"
   ]
  },
  {
   "cell_type": "markdown",
   "metadata": {},
   "source": [
    "# ArrayMathematics"
   ]
  },
  {
   "cell_type": "code",
   "execution_count": null,
   "metadata": {},
   "outputs": [],
   "source": [
    "import numpy\n",
    "n,m = map(int, input().split())\n",
    "a = numpy.array([input().split() for i in range(n)], dtype=int)\n",
    "b = numpy.array([input().split() for i in range(n)], dtype=int)\n",
    "print (a+b)\n",
    "print (a-b)\n",
    "print (a*b)\n",
    "print (a//b)\n",
    "print (a%b)\n",
    "print (a**b)"
   ]
  },
  {
   "cell_type": "markdown",
   "metadata": {},
   "source": [
    "# Floor, Ceil and Rint"
   ]
  },
  {
   "cell_type": "code",
   "execution_count": null,
   "metadata": {},
   "outputs": [],
   "source": [
    "import numpy\n",
    "A = numpy.array(input().split(), float)\n",
    "numpy.set_printoptions(sign=' ')  #risolve il solito bug degli spazi\n",
    "print (numpy.floor(A))\n",
    "print (numpy.ceil(A))\n",
    "print (numpy.rint(A))\n"
   ]
  },
  {
   "cell_type": "markdown",
   "metadata": {},
   "source": [
    "# Sum and Prod"
   ]
  },
  {
   "cell_type": "code",
   "execution_count": null,
   "metadata": {},
   "outputs": [],
   "source": [
    "import numpy\n",
    "n,m = map(int, input().split())\n",
    "arr = numpy.array([input().split() for i in range(n)], int)\n",
    "s = numpy.sum(arr, axis=0)\n",
    "print(numpy.prod(s, axis=None))\n"
   ]
  },
  {
   "cell_type": "markdown",
   "metadata": {},
   "source": [
    "# Min and Max"
   ]
  },
  {
   "cell_type": "code",
   "execution_count": null,
   "metadata": {},
   "outputs": [],
   "source": [
    "import numpy\n",
    "n, m = map(int, input().split())\n",
    "arr = numpy.array([input().split() for i in range(n)], int)\n",
    "m = numpy.min(arr, axis=1)\n",
    "print(numpy.max(m))"
   ]
  },
  {
   "cell_type": "markdown",
   "metadata": {},
   "source": [
    "# Mean, Var and Std"
   ]
  },
  {
   "cell_type": "code",
   "execution_count": null,
   "metadata": {},
   "outputs": [],
   "source": [
    "import numpy\n",
    "numpy.set_printoptions(legacy='1.13')  #versione numpy necessaria\n",
    "n,m = map(int, input().split())\n",
    "arr = numpy.array([input().split() for i in range(n)], int)\n",
    "print(numpy.mean(arr, axis=1))\n",
    "print(numpy.var(arr, axis=0))\n",
    "print(numpy.std(arr, axis=None))"
   ]
  },
  {
   "cell_type": "markdown",
   "metadata": {},
   "source": [
    "# Dot and Cross"
   ]
  },
  {
   "cell_type": "code",
   "execution_count": null,
   "metadata": {},
   "outputs": [],
   "source": [
    "import numpy\n",
    "n = int(input())\n",
    "A = numpy.array([input().split() for i in range(n)], int)\n",
    "B = numpy.array([input().split() for j in range(n)], int)\n",
    "\n",
    "print(numpy.dot(A,B))\n"
   ]
  },
  {
   "cell_type": "markdown",
   "metadata": {},
   "source": [
    "# Inner and outer"
   ]
  },
  {
   "cell_type": "code",
   "execution_count": null,
   "metadata": {},
   "outputs": [],
   "source": [
    "import numpy\n",
    "A = numpy.array(input().split(), int)\n",
    "B = numpy.array(input().split(), int)\n",
    "\n",
    "print(numpy.inner(A,B))\n",
    "print(numpy.outer(A,B))"
   ]
  },
  {
   "cell_type": "markdown",
   "metadata": {},
   "source": [
    "# Pylonomials"
   ]
  },
  {
   "cell_type": "code",
   "execution_count": null,
   "metadata": {},
   "outputs": [],
   "source": [
    "import numpy\n",
    "n = list(map(float,input().split()))\n",
    "m = input()\n",
    "print(numpy.polyval(n,int(m)))"
   ]
  },
  {
   "cell_type": "markdown",
   "metadata": {},
   "source": [
    "# Linear Algebra"
   ]
  },
  {
   "cell_type": "code",
   "execution_count": null,
   "metadata": {},
   "outputs": [],
   "source": [
    "import numpy\n",
    "n = int(input())\n",
    "numpy.set_printoptions(legacy='1.13')  #solito bug\n",
    "A = numpy.array([input().split() for i in range(n)], float)\n",
    "\n",
    "print(numpy.linalg.det(A))\n"
   ]
  },
  {
   "cell_type": "markdown",
   "metadata": {},
   "source": [
    "#### challenges of 2nd problem"
   ]
  },
  {
   "cell_type": "markdown",
   "metadata": {},
   "source": [
    "# Birthday Candles Cake"
   ]
  },
  {
   "cell_type": "code",
   "execution_count": null,
   "metadata": {},
   "outputs": [],
   "source": [
    "#!/bin/python3\n",
    "\n",
    "import math\n",
    "import os\n",
    "import random\n",
    "import re\n",
    "import sys\n",
    "\n",
    "# Complete the birthdayCakeCandles function below.\n",
    "\n",
    "\n",
    "\n",
    "# SUPERA 4 TEST SU 8: running time problem\n",
    "def birthdayCakeCandles(ar):\n",
    "    count=0\n",
    "    ar.sort()\n",
    "\n",
    "    for i in ar[::-1]:\n",
    "        if i == max(ar):\n",
    "            count+=1\n",
    "        if i != max(ar):\n",
    "            break\n",
    "    return count\n",
    "\n",
    "\n",
    "\n",
    "# SUPERA 8 TEST SU 8\n",
    "def birthdayCakeCandles(ar):\n",
    "        cand = ar[0]\n",
    "        count = 1\n",
    "        for i in ar[1:]:\n",
    "            if i > cand:\n",
    "                cand = i\n",
    "                count = 1\n",
    "            elif i == cand:\n",
    "                count+= 1\n",
    "        return count\n",
    "\n",
    "\n",
    "\n",
    "\n",
    "if __name__ == '__main__':\n",
    "    fptr = open(os.environ['OUTPUT_PATH'], 'w')\n",
    "\n",
    "    ar_count = int(input())\n",
    "\n",
    "    ar = list(map(int, input().rstrip().split()))\n",
    "\n",
    "    result = birthdayCakeCandles(ar)\n",
    "\n",
    "    fptr.write(str(result) + '\\n')\n",
    "\n",
    "    fptr.close()"
   ]
  },
  {
   "cell_type": "markdown",
   "metadata": {},
   "source": [
    "# Kangaroos\n"
   ]
  },
  {
   "cell_type": "code",
   "execution_count": null,
   "metadata": {},
   "outputs": [],
   "source": [
    "#!/bin/python3\n",
    "\n",
    "import math\n",
    "import os\n",
    "import random\n",
    "import re\n",
    "import sys\n",
    "# Complete the kangaroo function below.\n",
    "def kangaroo(x1, v1, x2, v2):\n",
    "    if ((x1>x2 and v1>v2) or (x1<x2 and v1<v2) or (v1-v2)==0):\n",
    "        return \"NO\"\n",
    "    if ((x1 - x2) % (v2 - v1)) == 0:\n",
    "        return \"YES\"\n",
    "    else:\n",
    "        return \"NO\"\n",
    "    \n",
    "if __name__ == '__main__':\n",
    "    fptr = open(os.environ['OUTPUT_PATH'], 'w')\n",
    "\n",
    "    x1V1X2V2 = input().split()\n",
    "\n",
    "    x1 = int(x1V1X2V2[0])\n",
    "\n",
    "    v1 = int(x1V1X2V2[1])\n",
    "\n",
    "    x2 = int(x1V1X2V2[2])\n",
    "\n",
    "    v2 = int(x1V1X2V2[3])\n",
    "\n",
    "    result = kangaroo(x1, v1, x2, v2)\n",
    "\n",
    "    fptr.write(result + '\\n')\n",
    "\n",
    "    fptr.close()"
   ]
  },
  {
   "cell_type": "markdown",
   "metadata": {},
   "source": [
    "# Viral Advertising"
   ]
  },
  {
   "cell_type": "code",
   "execution_count": null,
   "metadata": {},
   "outputs": [],
   "source": [
    "#!/bin/python3\n",
    "\n",
    "import math\n",
    "import os\n",
    "import random\n",
    "import re\n",
    "import sys\n",
    "\n",
    "# Complete the viralAdvertising function below.\n",
    "def viralAdvertising(n):\n",
    "    share = 5\n",
    "    liketot = 0\n",
    "\n",
    "    for i in range(n):\n",
    "        liketot = liketot + (share//2)\n",
    "        share = (share//2)*3\n",
    "    return liketot\n",
    "\n",
    "if __name__ == '__main__':\n",
    "    fptr = open(os.environ['OUTPUT_PATH'], 'w')\n",
    "\n",
    "    n = int(input())\n",
    "\n",
    "    result = viralAdvertising(n)\n",
    "\n",
    "    fptr.write(str(result) + '\\n')\n",
    "\n",
    "    fptr.close()"
   ]
  },
  {
   "cell_type": "markdown",
   "metadata": {},
   "source": [
    "# Recursive Digit Sum"
   ]
  },
  {
   "cell_type": "code",
   "execution_count": null,
   "metadata": {},
   "outputs": [],
   "source": [
    "#!/bin/python3\n",
    "\n",
    "import math\n",
    "import os\n",
    "import random\n",
    "import re\n",
    "import sys\n",
    "\n",
    "# Complete the superDigit function below.\n",
    "def superDigit(n, k):\n",
    "    if len(n) == 1:\n",
    "        return(n)\n",
    "    somma =  sum([int(i) for i in str(n)])\n",
    "    somma*= k\n",
    "    return (superDigit(str(somma), 1))  \n",
    "\n",
    "if __name__ == '__main__':\n",
    "    fptr = open(os.environ['OUTPUT_PATH'], 'w')\n",
    "\n",
    "    nk = input().split()\n",
    "\n",
    "    n = nk[0]\n",
    "\n",
    "    k = int(nk[1])\n",
    "\n",
    "    result = superDigit(n, k)\n",
    "\n",
    "    fptr.write(str(result) + '\\n')\n",
    "\n",
    "    fptr.close()\n"
   ]
  }
 ],
 "metadata": {
  "kernelspec": {
   "display_name": "Python 3",
   "language": "python",
   "name": "python3"
  },
  "language_info": {
   "codemirror_mode": {
    "name": "ipython",
    "version": 3
   },
   "file_extension": ".py",
   "mimetype": "text/x-python",
   "name": "python",
   "nbconvert_exporter": "python",
   "pygments_lexer": "ipython3",
   "version": "3.7.3"
  }
 },
 "nbformat": 4,
 "nbformat_minor": 2
}
